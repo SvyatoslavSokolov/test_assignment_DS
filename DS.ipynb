{
 "cells": [
  {
   "cell_type": "markdown",
   "metadata": {
    "id": "k4Zb4nHPGiq_"
   },
   "source": [
    "# Задача 1:"
   ]
  },
  {
   "cell_type": "code",
   "execution_count": 1,
   "metadata": {
    "id": "LmH3xyYd2S1G"
   },
   "outputs": [],
   "source": [
    "import numpy as np\n",
    "import pandas as pd\n",
    "import re\n",
    "from sklearn.preprocessing import LabelEncoder\n",
    "from sklearn.metrics import mean_absolute_error as MAE\n",
    "import lightgbm\n",
    "from lightgbm import LGBMClassifier\n",
    "from lightgbm import LGBMRegressor\n",
    "from sklearn.metrics import f1_score\n",
    "from catboost import CatBoostClassifier, Pool\n",
    "from catboost import CatBoostRegressor\n",
    "from sklearn.model_selection import KFold\n",
    "from tqdm import tqdm\n",
    "import matplotlib.pyplot as plt \n",
    "import seaborn as sns\n",
    "import warnings\n",
    "warnings.filterwarnings(\"ignore\")"
   ]
  },
  {
   "cell_type": "markdown",
   "metadata": {
    "id": "Tj2QHVJeiEbf"
   },
   "source": [
    "## Базовая модель"
   ]
  },
  {
   "cell_type": "code",
   "execution_count": 2,
   "metadata": {
    "id": "I8cvPYMgiUAB"
   },
   "outputs": [],
   "source": [
    "regr = pd.read_csv(r'C:\\\\Users\\\\Svyatoslav\\\\Downloads\\\\data_regression_for_task.csv')"
   ]
  },
  {
   "cell_type": "code",
   "execution_count": 3,
   "metadata": {
    "id": "XArEQfaMiYwL"
   },
   "outputs": [],
   "source": [
    "# Берем последний месяц для валидации\n",
    "y_valid = regr[(regr['YEAR'] == 2018) & (regr['MONTH'] == 2)]['SALES']\n",
    "x_valid = regr[(regr['YEAR'] == 2018) & (regr['MONTH'] == 2)].drop(['SALES'],axis = 1)\n",
    "# И убираем его из train\n",
    "regr = regr[((regr['YEAR'] == 2018) & (regr['MONTH'] == 2)) == False]"
   ]
  },
  {
   "cell_type": "code",
   "execution_count": 4,
   "metadata": {
    "colab": {
     "base_uri": "https://localhost:8080/",
     "height": 204
    },
    "id": "U_BPWpDjesaT",
    "outputId": "65305765-b622-4c46-e48e-c57c0b1c2764"
   },
   "outputs": [
    {
     "data": {
      "text/html": [
       "<div>\n",
       "<style scoped>\n",
       "    .dataframe tbody tr th:only-of-type {\n",
       "        vertical-align: middle;\n",
       "    }\n",
       "\n",
       "    .dataframe tbody tr th {\n",
       "        vertical-align: top;\n",
       "    }\n",
       "\n",
       "    .dataframe thead th {\n",
       "        text-align: right;\n",
       "    }\n",
       "</style>\n",
       "<table border=\"1\" class=\"dataframe\">\n",
       "  <thead>\n",
       "    <tr style=\"text-align: right;\">\n",
       "      <th></th>\n",
       "      <th>YEAR</th>\n",
       "      <th>MONTH</th>\n",
       "      <th>CONTRAGENT</th>\n",
       "      <th>ARTICLE_CODE</th>\n",
       "      <th>ARTICLE_NAME</th>\n",
       "      <th>ARTICLE_GROUP</th>\n",
       "      <th>STORE_SALES</th>\n",
       "    </tr>\n",
       "  </thead>\n",
       "  <tbody>\n",
       "    <tr>\n",
       "      <th>4068</th>\n",
       "      <td>2018</td>\n",
       "      <td>2</td>\n",
       "      <td>LEGENDS LTD</td>\n",
       "      <td>99090</td>\n",
       "      <td>BITBURGER 1/2K</td>\n",
       "      <td>KEGS</td>\n",
       "      <td>2.0</td>\n",
       "    </tr>\n",
       "    <tr>\n",
       "      <th>115256</th>\n",
       "      <td>2018</td>\n",
       "      <td>2</td>\n",
       "      <td>REPUBLIC NATIONAL DISTRIBUTING CO</td>\n",
       "      <td>100009</td>\n",
       "      <td>BOOTLEG RED - 750ML</td>\n",
       "      <td>WINE</td>\n",
       "      <td>9.0</td>\n",
       "    </tr>\n",
       "    <tr>\n",
       "      <th>115257</th>\n",
       "      <td>2018</td>\n",
       "      <td>2</td>\n",
       "      <td>INTERBALT PRODUCTS CORP</td>\n",
       "      <td>100012</td>\n",
       "      <td>PAPI P/GRIG - 750ML</td>\n",
       "      <td>WINE</td>\n",
       "      <td>1.0</td>\n",
       "    </tr>\n",
       "    <tr>\n",
       "      <th>115258</th>\n",
       "      <td>2018</td>\n",
       "      <td>2</td>\n",
       "      <td>RELIABLE CHURCHILL LLLP</td>\n",
       "      <td>1001</td>\n",
       "      <td>SAM SMITH ORGANIC PEAR CIDER - 18.7OZ</td>\n",
       "      <td>BEER</td>\n",
       "      <td>2.0</td>\n",
       "    </tr>\n",
       "    <tr>\n",
       "      <th>115259</th>\n",
       "      <td>2018</td>\n",
       "      <td>2</td>\n",
       "      <td>ROYAL WINE CORP</td>\n",
       "      <td>100200</td>\n",
       "      <td>GAMLA CAB - 750ML</td>\n",
       "      <td>WINE</td>\n",
       "      <td>0.0</td>\n",
       "    </tr>\n",
       "  </tbody>\n",
       "</table>\n",
       "</div>"
      ],
      "text/plain": [
       "        YEAR  MONTH                         CONTRAGENT ARTICLE_CODE  \\\n",
       "4068    2018      2                        LEGENDS LTD        99090   \n",
       "115256  2018      2  REPUBLIC NATIONAL DISTRIBUTING CO       100009   \n",
       "115257  2018      2            INTERBALT PRODUCTS CORP       100012   \n",
       "115258  2018      2            RELIABLE CHURCHILL LLLP         1001   \n",
       "115259  2018      2                    ROYAL WINE CORP       100200   \n",
       "\n",
       "                                 ARTICLE_NAME ARTICLE_GROUP  STORE_SALES  \n",
       "4068                           BITBURGER 1/2K          KEGS          2.0  \n",
       "115256                    BOOTLEG RED - 750ML          WINE          9.0  \n",
       "115257                    PAPI P/GRIG - 750ML          WINE          1.0  \n",
       "115258  SAM SMITH ORGANIC PEAR CIDER - 18.7OZ          BEER          2.0  \n",
       "115259                      GAMLA CAB - 750ML          WINE          0.0  "
      ]
     },
     "execution_count": 4,
     "metadata": {},
     "output_type": "execute_result"
    }
   ],
   "source": [
    "x_valid.head()"
   ]
  },
  {
   "cell_type": "code",
   "execution_count": 5,
   "metadata": {
    "colab": {
     "base_uri": "https://localhost:8080/",
     "height": 204
    },
    "id": "Sq8e6-YAeKrK",
    "outputId": "26ce18b3-a004-4fed-b72d-5bb922fd6533"
   },
   "outputs": [
    {
     "data": {
      "text/html": [
       "<div>\n",
       "<style scoped>\n",
       "    .dataframe tbody tr th:only-of-type {\n",
       "        vertical-align: middle;\n",
       "    }\n",
       "\n",
       "    .dataframe tbody tr th {\n",
       "        vertical-align: top;\n",
       "    }\n",
       "\n",
       "    .dataframe thead th {\n",
       "        text-align: right;\n",
       "    }\n",
       "</style>\n",
       "<table border=\"1\" class=\"dataframe\">\n",
       "  <thead>\n",
       "    <tr style=\"text-align: right;\">\n",
       "      <th></th>\n",
       "      <th>YEAR</th>\n",
       "      <th>MONTH</th>\n",
       "      <th>CONTRAGENT</th>\n",
       "      <th>ARTICLE_CODE</th>\n",
       "      <th>ARTICLE_NAME</th>\n",
       "      <th>ARTICLE_GROUP</th>\n",
       "      <th>SALES</th>\n",
       "      <th>STORE_SALES</th>\n",
       "    </tr>\n",
       "  </thead>\n",
       "  <tbody>\n",
       "    <tr>\n",
       "      <th>0</th>\n",
       "      <td>2017</td>\n",
       "      <td>4</td>\n",
       "      <td>ROYAL WINE CORP</td>\n",
       "      <td>100200</td>\n",
       "      <td>GAMLA CAB - 750ML</td>\n",
       "      <td>WINE</td>\n",
       "      <td>0.0</td>\n",
       "      <td>0.0</td>\n",
       "    </tr>\n",
       "    <tr>\n",
       "      <th>1</th>\n",
       "      <td>2017</td>\n",
       "      <td>4</td>\n",
       "      <td>SANTA MARGHERITA USA INC</td>\n",
       "      <td>100749</td>\n",
       "      <td>SANTA MARGHERITA P/GRIG ALTO - 375ML</td>\n",
       "      <td>WINE</td>\n",
       "      <td>0.0</td>\n",
       "      <td>0.0</td>\n",
       "    </tr>\n",
       "    <tr>\n",
       "      <th>2</th>\n",
       "      <td>2017</td>\n",
       "      <td>4</td>\n",
       "      <td>JIM BEAM BRANDS CO</td>\n",
       "      <td>10103</td>\n",
       "      <td>KNOB CREEK BOURBON 9YR - 100P - 375ML</td>\n",
       "      <td>LIQUOR</td>\n",
       "      <td>0.0</td>\n",
       "      <td>0.0</td>\n",
       "    </tr>\n",
       "    <tr>\n",
       "      <th>3</th>\n",
       "      <td>2017</td>\n",
       "      <td>4</td>\n",
       "      <td>HEAVEN HILL DISTILLERIES INC</td>\n",
       "      <td>10120</td>\n",
       "      <td>J W DANT BOURBON 100P - 1.75L</td>\n",
       "      <td>LIQUOR</td>\n",
       "      <td>0.0</td>\n",
       "      <td>0.0</td>\n",
       "    </tr>\n",
       "    <tr>\n",
       "      <th>4</th>\n",
       "      <td>2017</td>\n",
       "      <td>4</td>\n",
       "      <td>ROYAL WINE CORP</td>\n",
       "      <td>101664</td>\n",
       "      <td>RAMON CORDOVA RIOJA - 750ML</td>\n",
       "      <td>WINE</td>\n",
       "      <td>0.0</td>\n",
       "      <td>0.0</td>\n",
       "    </tr>\n",
       "  </tbody>\n",
       "</table>\n",
       "</div>"
      ],
      "text/plain": [
       "   YEAR  MONTH                    CONTRAGENT ARTICLE_CODE  \\\n",
       "0  2017      4               ROYAL WINE CORP       100200   \n",
       "1  2017      4      SANTA MARGHERITA USA INC       100749   \n",
       "2  2017      4            JIM BEAM BRANDS CO        10103   \n",
       "3  2017      4  HEAVEN HILL DISTILLERIES INC        10120   \n",
       "4  2017      4               ROYAL WINE CORP       101664   \n",
       "\n",
       "                            ARTICLE_NAME ARTICLE_GROUP  SALES  STORE_SALES  \n",
       "0                      GAMLA CAB - 750ML          WINE    0.0          0.0  \n",
       "1   SANTA MARGHERITA P/GRIG ALTO - 375ML          WINE    0.0          0.0  \n",
       "2  KNOB CREEK BOURBON 9YR - 100P - 375ML        LIQUOR    0.0          0.0  \n",
       "3          J W DANT BOURBON 100P - 1.75L        LIQUOR    0.0          0.0  \n",
       "4            RAMON CORDOVA RIOJA - 750ML          WINE    0.0          0.0  "
      ]
     },
     "execution_count": 5,
     "metadata": {},
     "output_type": "execute_result"
    }
   ],
   "source": [
    "regr.head()"
   ]
  },
  {
   "cell_type": "code",
   "execution_count": 6,
   "metadata": {
    "id": "bxX2jryMi1wa"
   },
   "outputs": [],
   "source": [
    "# Считаем среднее кол-во продаж по наименованию\n",
    "mean = regr.groupby('ARTICLE_CODE')['SALES'].agg(SALES = 'mean').reset_index()\n",
    "# Присоединяем к валидации и получаем предикш основанный на среднем значении продаж\n",
    "x_valid = x_valid.merge(mean,on=['ARTICLE_CODE'], how='left')\n",
    "x_valid['SALES'] = x_valid['SALES'].fillna(0.0)\n",
    "y_pred = x_valid['SALES']"
   ]
  },
  {
   "cell_type": "code",
   "execution_count": 7,
   "metadata": {
    "id": "m7KxvkWRkJXW"
   },
   "outputs": [],
   "source": [
    "# Оценим качество модели с помощью функции metric\n",
    "# Модель данная в условии задачи - это MAPE (средняя абсолютная ошибка в процентах).\n",
    "def metric(y_true, y_pred):\n",
    "    y_true, y_pred = np.array(y_true), np.array(y_pred)\n",
    "    return np.sum(np.abs(y_true - y_pred)) / np.sum(y_pred) * 100"
   ]
  },
  {
   "cell_type": "code",
   "execution_count": 8,
   "metadata": {
    "colab": {
     "base_uri": "https://localhost:8080/"
    },
    "id": "-zqGAIyFaqdb",
    "outputId": "7fff666b-bf2f-44c5-b65f-698dad185dc6"
   },
   "outputs": [
    {
     "name": "stdout",
     "output_type": "stream",
     "text": [
      "MAPE:  32.059118226141436\n"
     ]
    }
   ],
   "source": [
    "print('MAPE: ',metric(y_valid,y_pred))"
   ]
  },
  {
   "cell_type": "markdown",
   "metadata": {
    "id": "Hr-oEtiliJcN"
   },
   "source": [
    "## Регрессионная модель"
   ]
  },
  {
   "cell_type": "code",
   "execution_count": 9,
   "metadata": {
    "id": "qRgQ-Vy9U6y6"
   },
   "outputs": [],
   "source": [
    "regr = pd.read_csv(r'C:\\\\Users\\\\Svyatoslav\\\\Downloads\\\\data_regression_for_task.csv')"
   ]
  },
  {
   "cell_type": "code",
   "execution_count": 10,
   "metadata": {
    "colab": {
     "base_uri": "https://localhost:8080/",
     "height": 297
    },
    "id": "o9rjHw6jCmGi",
    "outputId": "000d1c8b-4a6c-4242-cc66-060c195fe43c"
   },
   "outputs": [
    {
     "data": {
      "text/html": [
       "<div>\n",
       "<style scoped>\n",
       "    .dataframe tbody tr th:only-of-type {\n",
       "        vertical-align: middle;\n",
       "    }\n",
       "\n",
       "    .dataframe tbody tr th {\n",
       "        vertical-align: top;\n",
       "    }\n",
       "\n",
       "    .dataframe thead th {\n",
       "        text-align: right;\n",
       "    }\n",
       "</style>\n",
       "<table border=\"1\" class=\"dataframe\">\n",
       "  <thead>\n",
       "    <tr style=\"text-align: right;\">\n",
       "      <th></th>\n",
       "      <th>YEAR</th>\n",
       "      <th>MONTH</th>\n",
       "      <th>SALES</th>\n",
       "      <th>STORE_SALES</th>\n",
       "    </tr>\n",
       "  </thead>\n",
       "  <tbody>\n",
       "    <tr>\n",
       "      <th>count</th>\n",
       "      <td>128355.000000</td>\n",
       "      <td>128355.000000</td>\n",
       "      <td>1.283550e+05</td>\n",
       "      <td>128355.000000</td>\n",
       "    </tr>\n",
       "    <tr>\n",
       "      <th>mean</th>\n",
       "      <td>2017.206030</td>\n",
       "      <td>7.079303</td>\n",
       "      <td>6.563037e+03</td>\n",
       "      <td>22.624213</td>\n",
       "    </tr>\n",
       "    <tr>\n",
       "      <th>std</th>\n",
       "      <td>0.404454</td>\n",
       "      <td>3.645826</td>\n",
       "      <td>2.892494e+04</td>\n",
       "      <td>239.693277</td>\n",
       "    </tr>\n",
       "    <tr>\n",
       "      <th>min</th>\n",
       "      <td>2017.000000</td>\n",
       "      <td>1.000000</td>\n",
       "      <td>-6.490000e+03</td>\n",
       "      <td>-4996.000000</td>\n",
       "    </tr>\n",
       "    <tr>\n",
       "      <th>25%</th>\n",
       "      <td>2017.000000</td>\n",
       "      <td>5.000000</td>\n",
       "      <td>0.000000e+00</td>\n",
       "      <td>0.000000</td>\n",
       "    </tr>\n",
       "    <tr>\n",
       "      <th>50%</th>\n",
       "      <td>2017.000000</td>\n",
       "      <td>8.000000</td>\n",
       "      <td>3.300000e+02</td>\n",
       "      <td>1.000000</td>\n",
       "    </tr>\n",
       "    <tr>\n",
       "      <th>75%</th>\n",
       "      <td>2017.000000</td>\n",
       "      <td>10.000000</td>\n",
       "      <td>3.250000e+03</td>\n",
       "      <td>4.000000</td>\n",
       "    </tr>\n",
       "    <tr>\n",
       "      <th>max</th>\n",
       "      <td>2018.000000</td>\n",
       "      <td>12.000000</td>\n",
       "      <td>1.616600e+06</td>\n",
       "      <td>16271.750000</td>\n",
       "    </tr>\n",
       "  </tbody>\n",
       "</table>\n",
       "</div>"
      ],
      "text/plain": [
       "                YEAR          MONTH         SALES    STORE_SALES\n",
       "count  128355.000000  128355.000000  1.283550e+05  128355.000000\n",
       "mean     2017.206030       7.079303  6.563037e+03      22.624213\n",
       "std         0.404454       3.645826  2.892494e+04     239.693277\n",
       "min      2017.000000       1.000000 -6.490000e+03   -4996.000000\n",
       "25%      2017.000000       5.000000  0.000000e+00       0.000000\n",
       "50%      2017.000000       8.000000  3.300000e+02       1.000000\n",
       "75%      2017.000000      10.000000  3.250000e+03       4.000000\n",
       "max      2018.000000      12.000000  1.616600e+06   16271.750000"
      ]
     },
     "execution_count": 10,
     "metadata": {},
     "output_type": "execute_result"
    }
   ],
   "source": [
    "regr.describe()"
   ]
  },
  {
   "cell_type": "code",
   "execution_count": 11,
   "metadata": {
    "colab": {
     "base_uri": "https://localhost:8080/"
    },
    "id": "msGIadgTiAiR",
    "outputId": "461a5a89-ed0c-4788-9a56-8a9bd08bbb6d"
   },
   "outputs": [
    {
     "name": "stdout",
     "output_type": "stream",
     "text": [
      "<class 'pandas.core.frame.DataFrame'>\n",
      "RangeIndex: 128355 entries, 0 to 128354\n",
      "Data columns (total 8 columns):\n",
      " #   Column         Non-Null Count   Dtype  \n",
      "---  ------         --------------   -----  \n",
      " 0   YEAR           128355 non-null  int64  \n",
      " 1   MONTH          128355 non-null  int64  \n",
      " 2   CONTRAGENT     128331 non-null  object \n",
      " 3   ARTICLE_CODE   128355 non-null  object \n",
      " 4   ARTICLE_NAME   128355 non-null  object \n",
      " 5   ARTICLE_GROUP  128354 non-null  object \n",
      " 6   SALES          128355 non-null  float64\n",
      " 7   STORE_SALES    128355 non-null  float64\n",
      "dtypes: float64(2), int64(2), object(4)\n",
      "memory usage: 7.8+ MB\n"
     ]
    }
   ],
   "source": [
    "regr.info()"
   ]
  },
  {
   "cell_type": "code",
   "execution_count": 12,
   "metadata": {
    "id": "ztUARRYSymL1"
   },
   "outputs": [],
   "source": [
    "# Удаляем YEARS (нет годового цикла и месяцы не повторяются)\n",
    "regr = regr.drop(['YEAR'],axis = 1)\n",
    "# Месяц 1 и 2 2018 года переименовываем в 13 14 (так как данных мало, месяцы будем рассматривать линейно, а не циклично)\n",
    "regr.loc[regr.MONTH == 1, 'MONTH'] = 13\n",
    "regr.loc[regr.MONTH == 2, 'MONTH'] = 14\n",
    "# Исключаем 4 месяц за отсутвием продаж\n",
    "regr = regr[regr['MONTH'] != 4]"
   ]
  },
  {
   "cell_type": "code",
   "execution_count": 13,
   "metadata": {
    "colab": {
     "base_uri": "https://localhost:8080/"
    },
    "id": "QdjuDnurYScv",
    "outputId": "da67fb29-c876-4782-a6ce-90b926215927"
   },
   "outputs": [
    {
     "name": "stdout",
     "output_type": "stream",
     "text": [
      "['WINE' 'REF' 'BEER' 'KEGS' 'LIQUOR' 'STR_SUPPLIES' 'DUNNAGE'\n",
      " 'NON-ALCOHOL' nan]\n"
     ]
    }
   ],
   "source": [
    "# KEGS : Полные алюминиевые бочки, STR_SUPPLIES : Пакеты, DUNNAGE : Пустые алюминиевые бочки, REF : Открывашки\n",
    "print(regr['ARTICLE_GROUP'].unique())"
   ]
  },
  {
   "cell_type": "code",
   "execution_count": 14,
   "metadata": {
    "id": "cL9P51Yd2z9A"
   },
   "outputs": [],
   "source": [
    "# Заполняем пропущенные значения\n",
    "# В ARTICLE_GROUP - 1 пропущенное значение и это WINE\n",
    "regr['ARTICLE_GROUP'] = regr['ARTICLE_GROUP'].fillna('WINE')\n",
    "# Пропущенные контрагенты = наименование продукта + CO\n",
    "regr['CONTRAGENT'] = regr['CONTRAGENT'].fillna(regr['ARTICLE_NAME']+ 'CO')"
   ]
  },
  {
   "cell_type": "code",
   "execution_count": 15,
   "metadata": {
    "colab": {
     "base_uri": "https://localhost:8080/",
     "height": 204
    },
    "id": "I8zoJEeKRR1c",
    "outputId": "1c0a62c6-2198-48a3-828c-36af9fa3ac30"
   },
   "outputs": [
    {
     "data": {
      "text/html": [
       "<div>\n",
       "<style scoped>\n",
       "    .dataframe tbody tr th:only-of-type {\n",
       "        vertical-align: middle;\n",
       "    }\n",
       "\n",
       "    .dataframe tbody tr th {\n",
       "        vertical-align: top;\n",
       "    }\n",
       "\n",
       "    .dataframe thead th {\n",
       "        text-align: right;\n",
       "    }\n",
       "</style>\n",
       "<table border=\"1\" class=\"dataframe\">\n",
       "  <thead>\n",
       "    <tr style=\"text-align: right;\">\n",
       "      <th></th>\n",
       "      <th>MONTH</th>\n",
       "      <th>CONTRAGENT</th>\n",
       "      <th>ARTICLE_CODE</th>\n",
       "      <th>ARTICLE_NAME</th>\n",
       "      <th>ARTICLE_GROUP</th>\n",
       "      <th>SALES</th>\n",
       "      <th>STORE_SALES</th>\n",
       "    </tr>\n",
       "  </thead>\n",
       "  <tbody>\n",
       "    <tr>\n",
       "      <th>2689</th>\n",
       "      <td>5</td>\n",
       "      <td>DOPS INC</td>\n",
       "      <td>12644</td>\n",
       "      <td>RARE PINOT NOIR - 750ML</td>\n",
       "      <td>WINE</td>\n",
       "      <td>0.0</td>\n",
       "      <td>1.0</td>\n",
       "    </tr>\n",
       "    <tr>\n",
       "      <th>2913</th>\n",
       "      <td>10</td>\n",
       "      <td>Default</td>\n",
       "      <td>59978</td>\n",
       "      <td>STORE SPECIAL BEER QUART</td>\n",
       "      <td>REF</td>\n",
       "      <td>250.0</td>\n",
       "      <td>0.0</td>\n",
       "    </tr>\n",
       "    <tr>\n",
       "      <th>2989</th>\n",
       "      <td>10</td>\n",
       "      <td>DOPS INC</td>\n",
       "      <td>7102</td>\n",
       "      <td>ABITA LIGHT 4/6NR - 12OZ</td>\n",
       "      <td>BEER</td>\n",
       "      <td>0.0</td>\n",
       "      <td>11.0</td>\n",
       "    </tr>\n",
       "    <tr>\n",
       "      <th>3547</th>\n",
       "      <td>10</td>\n",
       "      <td>LEGENDS LTD</td>\n",
       "      <td>8214</td>\n",
       "      <td>BITBURGER CANS 2/CS - 5L</td>\n",
       "      <td>BEER</td>\n",
       "      <td>0.0</td>\n",
       "      <td>2.0</td>\n",
       "    </tr>\n",
       "    <tr>\n",
       "      <th>3732</th>\n",
       "      <td>10</td>\n",
       "      <td>LEGENDS LTD</td>\n",
       "      <td>99090</td>\n",
       "      <td>BITBURGER 1/2K</td>\n",
       "      <td>KEGS</td>\n",
       "      <td>0.0</td>\n",
       "      <td>1.0</td>\n",
       "    </tr>\n",
       "  </tbody>\n",
       "</table>\n",
       "</div>"
      ],
      "text/plain": [
       "      MONTH   CONTRAGENT ARTICLE_CODE              ARTICLE_NAME ARTICLE_GROUP  \\\n",
       "2689      5     DOPS INC        12644   RARE PINOT NOIR - 750ML          WINE   \n",
       "2913     10      Default        59978  STORE SPECIAL BEER QUART           REF   \n",
       "2989     10     DOPS INC         7102  ABITA LIGHT 4/6NR - 12OZ          BEER   \n",
       "3547     10  LEGENDS LTD         8214  BITBURGER CANS 2/CS - 5L          BEER   \n",
       "3732     10  LEGENDS LTD        99090            BITBURGER 1/2K          KEGS   \n",
       "\n",
       "      SALES  STORE_SALES  \n",
       "2689    0.0          1.0  \n",
       "2913  250.0          0.0  \n",
       "2989    0.0         11.0  \n",
       "3547    0.0          2.0  \n",
       "3732    0.0          1.0  "
      ]
     },
     "execution_count": 15,
     "metadata": {},
     "output_type": "execute_result"
    }
   ],
   "source": [
    "regr.head()"
   ]
  },
  {
   "cell_type": "code",
   "execution_count": 16,
   "metadata": {
    "id": "AX_rNTCMQqRj"
   },
   "outputs": [],
   "source": [
    "# FEATURES\n",
    "\n",
    "#Продажи в предыдущий месяц \n",
    "month_list = sorted(regr['MONTH'].unique().tolist())\n",
    "temp = pd.DataFrame\n",
    "for pos,month in enumerate(month_list):\n",
    "  X = regr[regr['MONTH'] == month]\n",
    "  if month != month_list[-1]:\n",
    "    X['MONTH'] = month_list[pos+1]\n",
    "    X = X.rename(columns={'SALES': 'SALES-1','STORE_SALES': 'STORE_SALES-1'}).drop(['CONTRAGENT','ARTICLE_NAME','ARTICLE_GROUP'],axis = 1)\n",
    "    if pos == 0:\n",
    "      temp = X\n",
    "    temp = temp.append(X, sort= False)\n",
    "regr = regr.merge(temp, on=['ARTICLE_CODE','MONTH'], how='left')\n",
    "regr['SALES-1'] = regr['SALES-1'].fillna(0)\n",
    "regr['STORE_SALES-1'] = regr['STORE_SALES-1'].fillna(0)\n",
    "regr = regr[regr['MONTH'] != 5]\n",
    "\n",
    "#Среднее количество продаж группы товаров\n",
    "X = regr[regr['MONTH'] != 14]\n",
    "mean = X.groupby(['ARTICLE_GROUP'])['SALES','STORE_SALES'].agg({'SALES':['mean','min', 'max'],'STORE_SALES':['mean','min', 'max']}).reset_index().rename(columns={'SALES': 'MEAN_ARTICLE_GROUP_SALES_ALL','STORE_SALES': 'MEAN_ARTICLE_GROUP_STORE_SALES_ALL'})\n",
    "regr = regr.merge(mean,on=['ARTICLE_GROUP'], how='left')\n",
    "\n",
    "#Среднее количество продаж по контрагентам\n",
    "mean = X.groupby(['CONTRAGENT'])['SALES','STORE_SALES'].agg({'SALES':['mean','min', 'max'],'STORE_SALES':['mean','min', 'max']}).reset_index().rename(columns={'SALES': 'MEAN_CONTRAGENT_SALES_ALL','STORE_SALES': 'MEAN_CONTRAGENT_STORE_SALES_ALL'})\n",
    "regr = regr.merge(mean,on=['CONTRAGENT'], how='left')\n",
    "\n",
    "#Среднее количество продаж за все время по позиции\n",
    "mean = X.groupby(['ARTICLE_CODE'])['SALES','STORE_SALES'].agg({'SALES':['mean','min', 'max'],'STORE_SALES':['mean','min', 'max']}).reset_index().rename(columns={'SALES': 'MEAN_ARTICLE_CODE_SALES','STORE_SALES': 'MEAN_ARTICLE_CODE_STORE_SALES'})\n",
    "regr = regr.merge(mean,on=['ARTICLE_CODE'], how='left')\n",
    "\n",
    "regr = regr.rename(columns = lambda x:re.sub('[^A-Za-z0-9_]+', '', str(x)))"
   ]
  },
  {
   "cell_type": "code",
   "execution_count": 17,
   "metadata": {
    "colab": {
     "base_uri": "https://localhost:8080/",
     "height": 360
    },
    "id": "liAmXH98SAaG",
    "outputId": "737e566d-9c25-4b91-94a5-d68fa24772ae"
   },
   "outputs": [
    {
     "data": {
      "text/html": [
       "<div>\n",
       "<style scoped>\n",
       "    .dataframe tbody tr th:only-of-type {\n",
       "        vertical-align: middle;\n",
       "    }\n",
       "\n",
       "    .dataframe tbody tr th {\n",
       "        vertical-align: top;\n",
       "    }\n",
       "\n",
       "    .dataframe thead th {\n",
       "        text-align: right;\n",
       "    }\n",
       "</style>\n",
       "<table border=\"1\" class=\"dataframe\">\n",
       "  <thead>\n",
       "    <tr style=\"text-align: right;\">\n",
       "      <th></th>\n",
       "      <th>MONTH</th>\n",
       "      <th>CONTRAGENT</th>\n",
       "      <th>ARTICLE_CODE</th>\n",
       "      <th>ARTICLE_NAME</th>\n",
       "      <th>ARTICLE_GROUP</th>\n",
       "      <th>SALES</th>\n",
       "      <th>STORE_SALES</th>\n",
       "      <th>SALES1</th>\n",
       "      <th>STORE_SALES1</th>\n",
       "      <th>MEAN_ARTICLE_GROUP_SALES_ALLmean</th>\n",
       "      <th>...</th>\n",
       "      <th>MEAN_CONTRAGENT_SALES_ALLmax</th>\n",
       "      <th>MEAN_CONTRAGENT_STORE_SALES_ALLmean</th>\n",
       "      <th>MEAN_CONTRAGENT_STORE_SALES_ALLmin</th>\n",
       "      <th>MEAN_CONTRAGENT_STORE_SALES_ALLmax</th>\n",
       "      <th>MEAN_ARTICLE_CODE_SALESmean</th>\n",
       "      <th>MEAN_ARTICLE_CODE_SALESmin</th>\n",
       "      <th>MEAN_ARTICLE_CODE_SALESmax</th>\n",
       "      <th>MEAN_ARTICLE_CODE_STORE_SALESmean</th>\n",
       "      <th>MEAN_ARTICLE_CODE_STORE_SALESmin</th>\n",
       "      <th>MEAN_ARTICLE_CODE_STORE_SALESmax</th>\n",
       "    </tr>\n",
       "  </thead>\n",
       "  <tbody>\n",
       "    <tr>\n",
       "      <th>0</th>\n",
       "      <td>10</td>\n",
       "      <td>Default</td>\n",
       "      <td>59978</td>\n",
       "      <td>STORE SPECIAL BEER QUART</td>\n",
       "      <td>REF</td>\n",
       "      <td>250.0</td>\n",
       "      <td>0.0</td>\n",
       "      <td>740.0</td>\n",
       "      <td>0.00</td>\n",
       "      <td>5329.333333</td>\n",
       "      <td>...</td>\n",
       "      <td>368640.0</td>\n",
       "      <td>0.000000</td>\n",
       "      <td>0.0</td>\n",
       "      <td>0.00</td>\n",
       "      <td>443.333333</td>\n",
       "      <td>250.0</td>\n",
       "      <td>740.0</td>\n",
       "      <td>0.000000</td>\n",
       "      <td>0.0</td>\n",
       "      <td>0.0</td>\n",
       "    </tr>\n",
       "    <tr>\n",
       "      <th>1</th>\n",
       "      <td>10</td>\n",
       "      <td>DOPS INC</td>\n",
       "      <td>7102</td>\n",
       "      <td>ABITA LIGHT 4/6NR - 12OZ</td>\n",
       "      <td>BEER</td>\n",
       "      <td>0.0</td>\n",
       "      <td>11.0</td>\n",
       "      <td>0.0</td>\n",
       "      <td>1.00</td>\n",
       "      <td>14028.371790</td>\n",
       "      <td>...</td>\n",
       "      <td>22000.0</td>\n",
       "      <td>3.589568</td>\n",
       "      <td>-1.0</td>\n",
       "      <td>117.00</td>\n",
       "      <td>125.000000</td>\n",
       "      <td>0.0</td>\n",
       "      <td>1000.0</td>\n",
       "      <td>6.500000</td>\n",
       "      <td>1.0</td>\n",
       "      <td>11.0</td>\n",
       "    </tr>\n",
       "    <tr>\n",
       "      <th>2</th>\n",
       "      <td>10</td>\n",
       "      <td>LEGENDS LTD</td>\n",
       "      <td>8214</td>\n",
       "      <td>BITBURGER CANS 2/CS - 5L</td>\n",
       "      <td>BEER</td>\n",
       "      <td>0.0</td>\n",
       "      <td>2.0</td>\n",
       "      <td>0.0</td>\n",
       "      <td>1.00</td>\n",
       "      <td>14028.371790</td>\n",
       "      <td>...</td>\n",
       "      <td>93750.0</td>\n",
       "      <td>6.977759</td>\n",
       "      <td>-18.0</td>\n",
       "      <td>340.93</td>\n",
       "      <td>0.000000</td>\n",
       "      <td>0.0</td>\n",
       "      <td>0.0</td>\n",
       "      <td>1.500000</td>\n",
       "      <td>1.0</td>\n",
       "      <td>2.0</td>\n",
       "    </tr>\n",
       "    <tr>\n",
       "      <th>3</th>\n",
       "      <td>10</td>\n",
       "      <td>LEGENDS LTD</td>\n",
       "      <td>99090</td>\n",
       "      <td>BITBURGER 1/2K</td>\n",
       "      <td>KEGS</td>\n",
       "      <td>0.0</td>\n",
       "      <td>1.0</td>\n",
       "      <td>0.0</td>\n",
       "      <td>2.00</td>\n",
       "      <td>0.000000</td>\n",
       "      <td>...</td>\n",
       "      <td>93750.0</td>\n",
       "      <td>6.977759</td>\n",
       "      <td>-18.0</td>\n",
       "      <td>340.93</td>\n",
       "      <td>0.000000</td>\n",
       "      <td>0.0</td>\n",
       "      <td>0.0</td>\n",
       "      <td>2.285714</td>\n",
       "      <td>0.0</td>\n",
       "      <td>6.0</td>\n",
       "    </tr>\n",
       "    <tr>\n",
       "      <th>4</th>\n",
       "      <td>12</td>\n",
       "      <td>HEINEKEN USA</td>\n",
       "      <td>31177</td>\n",
       "      <td>TECATE 30 PACK CAN</td>\n",
       "      <td>BEER</td>\n",
       "      <td>0.0</td>\n",
       "      <td>281.0</td>\n",
       "      <td>0.0</td>\n",
       "      <td>264.97</td>\n",
       "      <td>14028.371790</td>\n",
       "      <td>...</td>\n",
       "      <td>851000.0</td>\n",
       "      <td>701.005353</td>\n",
       "      <td>0.0</td>\n",
       "      <td>8641.48</td>\n",
       "      <td>0.000000</td>\n",
       "      <td>0.0</td>\n",
       "      <td>0.0</td>\n",
       "      <td>304.496250</td>\n",
       "      <td>234.0</td>\n",
       "      <td>394.0</td>\n",
       "    </tr>\n",
       "  </tbody>\n",
       "</table>\n",
       "<p>5 rows × 27 columns</p>\n",
       "</div>"
      ],
      "text/plain": [
       "   MONTH    CONTRAGENT ARTICLE_CODE              ARTICLE_NAME ARTICLE_GROUP  \\\n",
       "0     10       Default        59978  STORE SPECIAL BEER QUART           REF   \n",
       "1     10      DOPS INC         7102  ABITA LIGHT 4/6NR - 12OZ          BEER   \n",
       "2     10   LEGENDS LTD         8214  BITBURGER CANS 2/CS - 5L          BEER   \n",
       "3     10   LEGENDS LTD        99090            BITBURGER 1/2K          KEGS   \n",
       "4     12  HEINEKEN USA        31177        TECATE 30 PACK CAN          BEER   \n",
       "\n",
       "   SALES  STORE_SALES  SALES1  STORE_SALES1  MEAN_ARTICLE_GROUP_SALES_ALLmean  \\\n",
       "0  250.0          0.0   740.0          0.00                       5329.333333   \n",
       "1    0.0         11.0     0.0          1.00                      14028.371790   \n",
       "2    0.0          2.0     0.0          1.00                      14028.371790   \n",
       "3    0.0          1.0     0.0          2.00                          0.000000   \n",
       "4    0.0        281.0     0.0        264.97                      14028.371790   \n",
       "\n",
       "   ...  MEAN_CONTRAGENT_SALES_ALLmax  MEAN_CONTRAGENT_STORE_SALES_ALLmean  \\\n",
       "0  ...                      368640.0                             0.000000   \n",
       "1  ...                       22000.0                             3.589568   \n",
       "2  ...                       93750.0                             6.977759   \n",
       "3  ...                       93750.0                             6.977759   \n",
       "4  ...                      851000.0                           701.005353   \n",
       "\n",
       "   MEAN_CONTRAGENT_STORE_SALES_ALLmin  MEAN_CONTRAGENT_STORE_SALES_ALLmax  \\\n",
       "0                                 0.0                                0.00   \n",
       "1                                -1.0                              117.00   \n",
       "2                               -18.0                              340.93   \n",
       "3                               -18.0                              340.93   \n",
       "4                                 0.0                             8641.48   \n",
       "\n",
       "   MEAN_ARTICLE_CODE_SALESmean  MEAN_ARTICLE_CODE_SALESmin  \\\n",
       "0                   443.333333                       250.0   \n",
       "1                   125.000000                         0.0   \n",
       "2                     0.000000                         0.0   \n",
       "3                     0.000000                         0.0   \n",
       "4                     0.000000                         0.0   \n",
       "\n",
       "   MEAN_ARTICLE_CODE_SALESmax  MEAN_ARTICLE_CODE_STORE_SALESmean  \\\n",
       "0                       740.0                           0.000000   \n",
       "1                      1000.0                           6.500000   \n",
       "2                         0.0                           1.500000   \n",
       "3                         0.0                           2.285714   \n",
       "4                         0.0                         304.496250   \n",
       "\n",
       "   MEAN_ARTICLE_CODE_STORE_SALESmin  MEAN_ARTICLE_CODE_STORE_SALESmax  \n",
       "0                               0.0                               0.0  \n",
       "1                               1.0                              11.0  \n",
       "2                               1.0                               2.0  \n",
       "3                               0.0                               6.0  \n",
       "4                             234.0                             394.0  \n",
       "\n",
       "[5 rows x 27 columns]"
      ]
     },
     "execution_count": 17,
     "metadata": {},
     "output_type": "execute_result"
    }
   ],
   "source": [
    "regr.head()"
   ]
  },
  {
   "cell_type": "code",
   "execution_count": 18,
   "metadata": {
    "colab": {
     "base_uri": "https://localhost:8080/"
    },
    "id": "jK4PA4py10An",
    "outputId": "20d25a81-942a-416e-f238-80bee23ba44f"
   },
   "outputs": [
    {
     "data": {
      "text/plain": [
       "['CONTRAGENT', 'ARTICLE_CODE', 'ARTICLE_NAME', 'ARTICLE_GROUP']"
      ]
     },
     "execution_count": 18,
     "metadata": {},
     "output_type": "execute_result"
    }
   ],
   "source": [
    "# Выбираем категоральные признаки\n",
    "categorical_feature_columns = regr.select_dtypes(exclude=['float64','int64']).columns\n",
    "categorical_feature = np.where((regr.dtypes != 'float64')&(regr.dtypes != 'int64'))[0].tolist()\n",
    "categorical_feature_columns.tolist()"
   ]
  },
  {
   "cell_type": "code",
   "execution_count": 19,
   "metadata": {
    "id": "sRB1bvQc15KE"
   },
   "outputs": [],
   "source": [
    "label = LabelEncoder()\n",
    "for column in categorical_feature_columns:\n",
    "        label.fit(regr[column])\n",
    "        regr[column] = label.transform(regr[column])"
   ]
  },
  {
   "cell_type": "code",
   "execution_count": 20,
   "metadata": {
    "colab": {
     "base_uri": "https://localhost:8080/",
     "height": 241
    },
    "id": "_ikJe9t9mRUF",
    "outputId": "2d336a6b-9763-49cf-b4ee-5c3e5b6f7651"
   },
   "outputs": [
    {
     "data": {
      "text/html": [
       "<div>\n",
       "<style scoped>\n",
       "    .dataframe tbody tr th:only-of-type {\n",
       "        vertical-align: middle;\n",
       "    }\n",
       "\n",
       "    .dataframe tbody tr th {\n",
       "        vertical-align: top;\n",
       "    }\n",
       "\n",
       "    .dataframe thead th {\n",
       "        text-align: right;\n",
       "    }\n",
       "</style>\n",
       "<table border=\"1\" class=\"dataframe\">\n",
       "  <thead>\n",
       "    <tr style=\"text-align: right;\">\n",
       "      <th></th>\n",
       "      <th>MONTH</th>\n",
       "      <th>CONTRAGENT</th>\n",
       "      <th>ARTICLE_CODE</th>\n",
       "      <th>ARTICLE_NAME</th>\n",
       "      <th>ARTICLE_GROUP</th>\n",
       "      <th>SALES</th>\n",
       "      <th>STORE_SALES</th>\n",
       "      <th>SALES1</th>\n",
       "      <th>STORE_SALES1</th>\n",
       "      <th>MEAN_ARTICLE_GROUP_SALES_ALLmean</th>\n",
       "      <th>...</th>\n",
       "      <th>MEAN_CONTRAGENT_SALES_ALLmax</th>\n",
       "      <th>MEAN_CONTRAGENT_STORE_SALES_ALLmean</th>\n",
       "      <th>MEAN_CONTRAGENT_STORE_SALES_ALLmin</th>\n",
       "      <th>MEAN_CONTRAGENT_STORE_SALES_ALLmax</th>\n",
       "      <th>MEAN_ARTICLE_CODE_SALESmean</th>\n",
       "      <th>MEAN_ARTICLE_CODE_SALESmin</th>\n",
       "      <th>MEAN_ARTICLE_CODE_SALESmax</th>\n",
       "      <th>MEAN_ARTICLE_CODE_STORE_SALESmean</th>\n",
       "      <th>MEAN_ARTICLE_CODE_STORE_SALESmin</th>\n",
       "      <th>MEAN_ARTICLE_CODE_STORE_SALESmax</th>\n",
       "    </tr>\n",
       "  </thead>\n",
       "  <tbody>\n",
       "    <tr>\n",
       "      <th>0</th>\n",
       "      <td>10</td>\n",
       "      <td>93</td>\n",
       "      <td>18403</td>\n",
       "      <td>20086</td>\n",
       "      <td>5</td>\n",
       "      <td>250.0</td>\n",
       "      <td>0.0</td>\n",
       "      <td>740.0</td>\n",
       "      <td>0.00</td>\n",
       "      <td>5329.333333</td>\n",
       "      <td>...</td>\n",
       "      <td>368640.0</td>\n",
       "      <td>0.000000</td>\n",
       "      <td>0.0</td>\n",
       "      <td>0.00</td>\n",
       "      <td>443.333333</td>\n",
       "      <td>250.0</td>\n",
       "      <td>740.0</td>\n",
       "      <td>0.000000</td>\n",
       "      <td>0.0</td>\n",
       "      <td>0.0</td>\n",
       "    </tr>\n",
       "    <tr>\n",
       "      <th>1</th>\n",
       "      <td>10</td>\n",
       "      <td>86</td>\n",
       "      <td>19388</td>\n",
       "      <td>305</td>\n",
       "      <td>0</td>\n",
       "      <td>0.0</td>\n",
       "      <td>11.0</td>\n",
       "      <td>0.0</td>\n",
       "      <td>1.00</td>\n",
       "      <td>14028.371790</td>\n",
       "      <td>...</td>\n",
       "      <td>22000.0</td>\n",
       "      <td>3.589568</td>\n",
       "      <td>-1.0</td>\n",
       "      <td>117.00</td>\n",
       "      <td>125.000000</td>\n",
       "      <td>0.0</td>\n",
       "      <td>1000.0</td>\n",
       "      <td>6.500000</td>\n",
       "      <td>1.0</td>\n",
       "      <td>11.0</td>\n",
       "    </tr>\n",
       "    <tr>\n",
       "      <th>2</th>\n",
       "      <td>10</td>\n",
       "      <td>169</td>\n",
       "      <td>21218</td>\n",
       "      <td>2539</td>\n",
       "      <td>0</td>\n",
       "      <td>0.0</td>\n",
       "      <td>2.0</td>\n",
       "      <td>0.0</td>\n",
       "      <td>1.00</td>\n",
       "      <td>14028.371790</td>\n",
       "      <td>...</td>\n",
       "      <td>93750.0</td>\n",
       "      <td>6.977759</td>\n",
       "      <td>-18.0</td>\n",
       "      <td>340.93</td>\n",
       "      <td>0.000000</td>\n",
       "      <td>0.0</td>\n",
       "      <td>0.0</td>\n",
       "      <td>1.500000</td>\n",
       "      <td>1.0</td>\n",
       "      <td>2.0</td>\n",
       "    </tr>\n",
       "    <tr>\n",
       "      <th>3</th>\n",
       "      <td>10</td>\n",
       "      <td>169</td>\n",
       "      <td>22829</td>\n",
       "      <td>2535</td>\n",
       "      <td>2</td>\n",
       "      <td>0.0</td>\n",
       "      <td>1.0</td>\n",
       "      <td>0.0</td>\n",
       "      <td>2.00</td>\n",
       "      <td>0.000000</td>\n",
       "      <td>...</td>\n",
       "      <td>93750.0</td>\n",
       "      <td>6.977759</td>\n",
       "      <td>-18.0</td>\n",
       "      <td>340.93</td>\n",
       "      <td>0.000000</td>\n",
       "      <td>0.0</td>\n",
       "      <td>0.0</td>\n",
       "      <td>2.285714</td>\n",
       "      <td>0.0</td>\n",
       "      <td>6.0</td>\n",
       "    </tr>\n",
       "    <tr>\n",
       "      <th>4</th>\n",
       "      <td>12</td>\n",
       "      <td>140</td>\n",
       "      <td>7310</td>\n",
       "      <td>20467</td>\n",
       "      <td>0</td>\n",
       "      <td>0.0</td>\n",
       "      <td>281.0</td>\n",
       "      <td>0.0</td>\n",
       "      <td>264.97</td>\n",
       "      <td>14028.371790</td>\n",
       "      <td>...</td>\n",
       "      <td>851000.0</td>\n",
       "      <td>701.005353</td>\n",
       "      <td>0.0</td>\n",
       "      <td>8641.48</td>\n",
       "      <td>0.000000</td>\n",
       "      <td>0.0</td>\n",
       "      <td>0.0</td>\n",
       "      <td>304.496250</td>\n",
       "      <td>234.0</td>\n",
       "      <td>394.0</td>\n",
       "    </tr>\n",
       "  </tbody>\n",
       "</table>\n",
       "<p>5 rows × 27 columns</p>\n",
       "</div>"
      ],
      "text/plain": [
       "   MONTH  CONTRAGENT  ARTICLE_CODE  ARTICLE_NAME  ARTICLE_GROUP  SALES  \\\n",
       "0     10          93         18403         20086              5  250.0   \n",
       "1     10          86         19388           305              0    0.0   \n",
       "2     10         169         21218          2539              0    0.0   \n",
       "3     10         169         22829          2535              2    0.0   \n",
       "4     12         140          7310         20467              0    0.0   \n",
       "\n",
       "   STORE_SALES  SALES1  STORE_SALES1  MEAN_ARTICLE_GROUP_SALES_ALLmean  ...  \\\n",
       "0          0.0   740.0          0.00                       5329.333333  ...   \n",
       "1         11.0     0.0          1.00                      14028.371790  ...   \n",
       "2          2.0     0.0          1.00                      14028.371790  ...   \n",
       "3          1.0     0.0          2.00                          0.000000  ...   \n",
       "4        281.0     0.0        264.97                      14028.371790  ...   \n",
       "\n",
       "   MEAN_CONTRAGENT_SALES_ALLmax  MEAN_CONTRAGENT_STORE_SALES_ALLmean  \\\n",
       "0                      368640.0                             0.000000   \n",
       "1                       22000.0                             3.589568   \n",
       "2                       93750.0                             6.977759   \n",
       "3                       93750.0                             6.977759   \n",
       "4                      851000.0                           701.005353   \n",
       "\n",
       "   MEAN_CONTRAGENT_STORE_SALES_ALLmin  MEAN_CONTRAGENT_STORE_SALES_ALLmax  \\\n",
       "0                                 0.0                                0.00   \n",
       "1                                -1.0                              117.00   \n",
       "2                               -18.0                              340.93   \n",
       "3                               -18.0                              340.93   \n",
       "4                                 0.0                             8641.48   \n",
       "\n",
       "   MEAN_ARTICLE_CODE_SALESmean  MEAN_ARTICLE_CODE_SALESmin  \\\n",
       "0                   443.333333                       250.0   \n",
       "1                   125.000000                         0.0   \n",
       "2                     0.000000                         0.0   \n",
       "3                     0.000000                         0.0   \n",
       "4                     0.000000                         0.0   \n",
       "\n",
       "   MEAN_ARTICLE_CODE_SALESmax  MEAN_ARTICLE_CODE_STORE_SALESmean  \\\n",
       "0                       740.0                           0.000000   \n",
       "1                      1000.0                           6.500000   \n",
       "2                         0.0                           1.500000   \n",
       "3                         0.0                           2.285714   \n",
       "4                         0.0                         304.496250   \n",
       "\n",
       "   MEAN_ARTICLE_CODE_STORE_SALESmin  MEAN_ARTICLE_CODE_STORE_SALESmax  \n",
       "0                               0.0                               0.0  \n",
       "1                               1.0                              11.0  \n",
       "2                               1.0                               2.0  \n",
       "3                               0.0                               6.0  \n",
       "4                             234.0                             394.0  \n",
       "\n",
       "[5 rows x 27 columns]"
      ]
     },
     "execution_count": 20,
     "metadata": {},
     "output_type": "execute_result"
    }
   ],
   "source": [
    "regr.head()"
   ]
  },
  {
   "cell_type": "code",
   "execution_count": 21,
   "metadata": {
    "id": "bScJCkOtyEo2"
   },
   "outputs": [],
   "source": [
    "# Разбиваем данные на тренировочную и тестовую выборки\n",
    "X = regr[regr['MONTH'] != 14].drop(['SALES'],axis = 1)\n",
    "y = regr[regr['MONTH'] != 14]['SALES']\n",
    "y_test = regr[regr['MONTH'] == 14]['SALES']\n",
    "x_test = regr[regr['MONTH'] == 14].drop(['SALES'],axis = 1)"
   ]
  },
  {
   "cell_type": "code",
   "execution_count": 22,
   "metadata": {
    "id": "uC9D-l0m3_RN"
   },
   "outputs": [
    {
     "name": "stdout",
     "output_type": "stream",
     "text": [
      "Training until validation scores don't improve for 200 rounds\n",
      "[5000]\tvalid_0's mape: 295.165\n",
      "[10000]\tvalid_0's mape: 55.114\n",
      "Early stopping, best iteration is:\n",
      "[12049]\tvalid_0's mape: 35.7278\n"
     ]
    }
   ],
   "source": [
    "# Lgbm с гиперпараметрами выбранными с помощью optuna (в следущем задании будет пример использования этой библиотеки, тут я оставил только результаты)\n",
    "lgbm_parameters = {\n",
    "    'metric':'mape',\n",
    "    'n_estimators': 20000,\n",
    "    'reg_alpha': 0.05083970902804484,\n",
    "    'reg_lambda': 0.04482870573087429,\n",
    "    'colsample_bytree': 0.46744612142234265,\n",
    "    'subsample': 0.020102513188851125,\n",
    "    'learning_rate': 0.0004845029069001623,\n",
    "    'max_depth': 74,\n",
    "    'num_leaves': 97,\n",
    "    'min_child_samples': 12,\n",
    "    'cat_smooth': 30,\n",
    "    'cat_l2': 13.926046321699218,\n",
    "    'max_bin': 500,\n",
    "    'min_data_per_group': 19\n",
    "    }\n",
    "lgbm_model = LGBMRegressor(**lgbm_parameters)\n",
    "lgbm_model.fit(X, y, eval_set = ((x_test,y_test)),verbose = 5000, early_stopping_rounds= 200)  \n",
    "y_pred = lgbm_model.predict(x_test)"
   ]
  },
  {
   "cell_type": "code",
   "execution_count": 23,
   "metadata": {
    "colab": {
     "base_uri": "https://localhost:8080/"
    },
    "id": "KEZSasnz2Zc6",
    "outputId": "72b6fe69-6396-43b5-a190-fdc54209da51"
   },
   "outputs": [
    {
     "name": "stdout",
     "output_type": "stream",
     "text": [
      "MAPE:  31.706599231097115\n"
     ]
    }
   ],
   "source": [
    "print('MAPE: ', metric(y_test,y_pred))"
   ]
  },
  {
   "cell_type": "code",
   "execution_count": 24,
   "metadata": {
    "colab": {
     "base_uri": "https://localhost:8080/",
     "height": 312
    },
    "id": "BCMMed6YolhK",
    "outputId": "7db5ac57-f9c7-4a98-f2ee-29484f9a74b7"
   },
   "outputs": [
    {
     "data": {
      "text/plain": [
       "<matplotlib.axes._subplots.AxesSubplot at 0x18a79a39910>"
      ]
     },
     "execution_count": 24,
     "metadata": {},
     "output_type": "execute_result"
    },
    {
     "data": {
      "image/png": "[encoded data removed]",
      "text/plain": [
       "<Figure size 720x288 with 1 Axes>"
      ]
     },
     "metadata": {
      "needs_background": "light"
     },
     "output_type": "display_data"
    }
   ],
   "source": [
    "plt.rcParams[\"figure.figsize\"] = (10, 4)\n",
    "lightgbm.plot_importance(lgbm_model,max_num_features = 16,height=.9)"
   ]
  },
  {
   "cell_type": "markdown",
   "metadata": {
    "id": "IyMgI3BM6xyI"
   },
   "source": [
    "Вывод: \n",
    "- Регрессионная модель показала результаты чуть лучше, чем просто средние показатели продаж за предыдущие месяцы.\n",
    "- Feature impotance : Показатель продаж за предыдущий месяц, продажи магазина и продажи магазина за предыдущий месяц, месяц по возрастанию (тут это не категоральный признак)."
   ]
  },
  {
   "cell_type": "markdown",
   "metadata": {
    "id": "DpX_1-J6k1mZ"
   },
   "source": [
    "# Задача 2:"
   ]
  },
  {
   "cell_type": "code",
   "execution_count": 25,
   "metadata": {
    "id": "G1LDX4Cnkost"
   },
   "outputs": [],
   "source": [
    "clas = pd.read_csv(r'C:\\\\Users\\\\Svyatoslav\\\\Downloads\\\\data_classification_for_task.csv')"
   ]
  },
  {
   "cell_type": "code",
   "execution_count": 26,
   "metadata": {
    "colab": {
     "base_uri": "https://localhost:8080/",
     "height": 317
    },
    "id": "c0ShkCLCuD8v",
    "outputId": "99fb6701-852b-4e76-afeb-6d8d64a93642"
   },
   "outputs": [
    {
     "data": {
      "text/html": [
       "<div>\n",
       "<style scoped>\n",
       "    .dataframe tbody tr th:only-of-type {\n",
       "        vertical-align: middle;\n",
       "    }\n",
       "\n",
       "    .dataframe tbody tr th {\n",
       "        vertical-align: top;\n",
       "    }\n",
       "\n",
       "    .dataframe thead th {\n",
       "        text-align: right;\n",
       "    }\n",
       "</style>\n",
       "<table border=\"1\" class=\"dataframe\">\n",
       "  <thead>\n",
       "    <tr style=\"text-align: right;\">\n",
       "      <th></th>\n",
       "      <th>AGE</th>\n",
       "      <th>GENDER</th>\n",
       "      <th>FEATURE_1</th>\n",
       "      <th>FEATURE_2</th>\n",
       "      <th>FEATURE_3</th>\n",
       "      <th>FEATURE_4</th>\n",
       "      <th>FEATURE_5</th>\n",
       "      <th>FEATURE_6</th>\n",
       "      <th>FEATURE_7</th>\n",
       "      <th>FEATURE_8</th>\n",
       "      <th>FEATURE_9</th>\n",
       "      <th>FEATURE_10</th>\n",
       "      <th>FEATURE_11</th>\n",
       "      <th>TARGET</th>\n",
       "    </tr>\n",
       "  </thead>\n",
       "  <tbody>\n",
       "    <tr>\n",
       "      <th>count</th>\n",
       "      <td>303.000000</td>\n",
       "      <td>303.000000</td>\n",
       "      <td>303.000000</td>\n",
       "      <td>303.000000</td>\n",
       "      <td>303.000000</td>\n",
       "      <td>303.000000</td>\n",
       "      <td>303.000000</td>\n",
       "      <td>303.000000</td>\n",
       "      <td>303.000000</td>\n",
       "      <td>303.000000</td>\n",
       "      <td>303.000000</td>\n",
       "      <td>303.000000</td>\n",
       "      <td>303.000000</td>\n",
       "      <td>303.000000</td>\n",
       "    </tr>\n",
       "    <tr>\n",
       "      <th>mean</th>\n",
       "      <td>54.366337</td>\n",
       "      <td>0.683168</td>\n",
       "      <td>0.966997</td>\n",
       "      <td>131.623762</td>\n",
       "      <td>246.264026</td>\n",
       "      <td>0.148515</td>\n",
       "      <td>0.528053</td>\n",
       "      <td>149.646865</td>\n",
       "      <td>0.326733</td>\n",
       "      <td>1.039604</td>\n",
       "      <td>1.399340</td>\n",
       "      <td>0.729373</td>\n",
       "      <td>2.313531</td>\n",
       "      <td>0.544554</td>\n",
       "    </tr>\n",
       "    <tr>\n",
       "      <th>std</th>\n",
       "      <td>9.082101</td>\n",
       "      <td>0.466011</td>\n",
       "      <td>1.032052</td>\n",
       "      <td>17.538143</td>\n",
       "      <td>51.830751</td>\n",
       "      <td>0.356198</td>\n",
       "      <td>0.525860</td>\n",
       "      <td>22.905161</td>\n",
       "      <td>0.469794</td>\n",
       "      <td>1.161075</td>\n",
       "      <td>0.616226</td>\n",
       "      <td>1.022606</td>\n",
       "      <td>0.612277</td>\n",
       "      <td>0.498835</td>\n",
       "    </tr>\n",
       "    <tr>\n",
       "      <th>min</th>\n",
       "      <td>29.000000</td>\n",
       "      <td>0.000000</td>\n",
       "      <td>0.000000</td>\n",
       "      <td>94.000000</td>\n",
       "      <td>126.000000</td>\n",
       "      <td>0.000000</td>\n",
       "      <td>0.000000</td>\n",
       "      <td>71.000000</td>\n",
       "      <td>0.000000</td>\n",
       "      <td>0.000000</td>\n",
       "      <td>0.000000</td>\n",
       "      <td>0.000000</td>\n",
       "      <td>0.000000</td>\n",
       "      <td>0.000000</td>\n",
       "    </tr>\n",
       "    <tr>\n",
       "      <th>25%</th>\n",
       "      <td>47.500000</td>\n",
       "      <td>0.000000</td>\n",
       "      <td>0.000000</td>\n",
       "      <td>120.000000</td>\n",
       "      <td>211.000000</td>\n",
       "      <td>0.000000</td>\n",
       "      <td>0.000000</td>\n",
       "      <td>133.500000</td>\n",
       "      <td>0.000000</td>\n",
       "      <td>0.000000</td>\n",
       "      <td>1.000000</td>\n",
       "      <td>0.000000</td>\n",
       "      <td>2.000000</td>\n",
       "      <td>0.000000</td>\n",
       "    </tr>\n",
       "    <tr>\n",
       "      <th>50%</th>\n",
       "      <td>55.000000</td>\n",
       "      <td>1.000000</td>\n",
       "      <td>1.000000</td>\n",
       "      <td>130.000000</td>\n",
       "      <td>240.000000</td>\n",
       "      <td>0.000000</td>\n",
       "      <td>1.000000</td>\n",
       "      <td>153.000000</td>\n",
       "      <td>0.000000</td>\n",
       "      <td>0.800000</td>\n",
       "      <td>1.000000</td>\n",
       "      <td>0.000000</td>\n",
       "      <td>2.000000</td>\n",
       "      <td>1.000000</td>\n",
       "    </tr>\n",
       "    <tr>\n",
       "      <th>75%</th>\n",
       "      <td>61.000000</td>\n",
       "      <td>1.000000</td>\n",
       "      <td>2.000000</td>\n",
       "      <td>140.000000</td>\n",
       "      <td>274.500000</td>\n",
       "      <td>0.000000</td>\n",
       "      <td>1.000000</td>\n",
       "      <td>166.000000</td>\n",
       "      <td>1.000000</td>\n",
       "      <td>1.600000</td>\n",
       "      <td>2.000000</td>\n",
       "      <td>1.000000</td>\n",
       "      <td>3.000000</td>\n",
       "      <td>1.000000</td>\n",
       "    </tr>\n",
       "    <tr>\n",
       "      <th>max</th>\n",
       "      <td>77.000000</td>\n",
       "      <td>1.000000</td>\n",
       "      <td>3.000000</td>\n",
       "      <td>200.000000</td>\n",
       "      <td>564.000000</td>\n",
       "      <td>1.000000</td>\n",
       "      <td>2.000000</td>\n",
       "      <td>202.000000</td>\n",
       "      <td>1.000000</td>\n",
       "      <td>6.200000</td>\n",
       "      <td>2.000000</td>\n",
       "      <td>4.000000</td>\n",
       "      <td>3.000000</td>\n",
       "      <td>1.000000</td>\n",
       "    </tr>\n",
       "  </tbody>\n",
       "</table>\n",
       "</div>"
      ],
      "text/plain": [
       "              AGE      GENDER   FEATURE_1   FEATURE_2   FEATURE_3   FEATURE_4  \\\n",
       "count  303.000000  303.000000  303.000000  303.000000  303.000000  303.000000   \n",
       "mean    54.366337    0.683168    0.966997  131.623762  246.264026    0.148515   \n",
       "std      9.082101    0.466011    1.032052   17.538143   51.830751    0.356198   \n",
       "min     29.000000    0.000000    0.000000   94.000000  126.000000    0.000000   \n",
       "25%     47.500000    0.000000    0.000000  120.000000  211.000000    0.000000   \n",
       "50%     55.000000    1.000000    1.000000  130.000000  240.000000    0.000000   \n",
       "75%     61.000000    1.000000    2.000000  140.000000  274.500000    0.000000   \n",
       "max     77.000000    1.000000    3.000000  200.000000  564.000000    1.000000   \n",
       "\n",
       "        FEATURE_5   FEATURE_6   FEATURE_7   FEATURE_8   FEATURE_9  FEATURE_10  \\\n",
       "count  303.000000  303.000000  303.000000  303.000000  303.000000  303.000000   \n",
       "mean     0.528053  149.646865    0.326733    1.039604    1.399340    0.729373   \n",
       "std      0.525860   22.905161    0.469794    1.161075    0.616226    1.022606   \n",
       "min      0.000000   71.000000    0.000000    0.000000    0.000000    0.000000   \n",
       "25%      0.000000  133.500000    0.000000    0.000000    1.000000    0.000000   \n",
       "50%      1.000000  153.000000    0.000000    0.800000    1.000000    0.000000   \n",
       "75%      1.000000  166.000000    1.000000    1.600000    2.000000    1.000000   \n",
       "max      2.000000  202.000000    1.000000    6.200000    2.000000    4.000000   \n",
       "\n",
       "       FEATURE_11      TARGET  \n",
       "count  303.000000  303.000000  \n",
       "mean     2.313531    0.544554  \n",
       "std      0.612277    0.498835  \n",
       "min      0.000000    0.000000  \n",
       "25%      2.000000    0.000000  \n",
       "50%      2.000000    1.000000  \n",
       "75%      3.000000    1.000000  \n",
       "max      3.000000    1.000000  "
      ]
     },
     "execution_count": 26,
     "metadata": {},
     "output_type": "execute_result"
    }
   ],
   "source": [
    "clas.describe()"
   ]
  },
  {
   "cell_type": "code",
   "execution_count": 27,
   "metadata": {
    "colab": {
     "base_uri": "https://localhost:8080/",
     "height": 204
    },
    "id": "olYYL5_Sk5Pz",
    "outputId": "e3b0c57a-d602-439a-bceb-0ea47b64d7f1"
   },
   "outputs": [
    {
     "data": {
      "text/html": [
       "<div>\n",
       "<style scoped>\n",
       "    .dataframe tbody tr th:only-of-type {\n",
       "        vertical-align: middle;\n",
       "    }\n",
       "\n",
       "    .dataframe tbody tr th {\n",
       "        vertical-align: top;\n",
       "    }\n",
       "\n",
       "    .dataframe thead th {\n",
       "        text-align: right;\n",
       "    }\n",
       "</style>\n",
       "<table border=\"1\" class=\"dataframe\">\n",
       "  <thead>\n",
       "    <tr style=\"text-align: right;\">\n",
       "      <th></th>\n",
       "      <th>AGE</th>\n",
       "      <th>GENDER</th>\n",
       "      <th>FEATURE_1</th>\n",
       "      <th>FEATURE_2</th>\n",
       "      <th>FEATURE_3</th>\n",
       "      <th>FEATURE_4</th>\n",
       "      <th>FEATURE_5</th>\n",
       "      <th>FEATURE_6</th>\n",
       "      <th>FEATURE_7</th>\n",
       "      <th>FEATURE_8</th>\n",
       "      <th>FEATURE_9</th>\n",
       "      <th>FEATURE_10</th>\n",
       "      <th>FEATURE_11</th>\n",
       "      <th>TARGET</th>\n",
       "    </tr>\n",
       "  </thead>\n",
       "  <tbody>\n",
       "    <tr>\n",
       "      <th>0</th>\n",
       "      <td>63</td>\n",
       "      <td>1</td>\n",
       "      <td>3</td>\n",
       "      <td>145</td>\n",
       "      <td>233</td>\n",
       "      <td>1</td>\n",
       "      <td>0</td>\n",
       "      <td>150</td>\n",
       "      <td>0</td>\n",
       "      <td>2.3</td>\n",
       "      <td>0</td>\n",
       "      <td>0</td>\n",
       "      <td>1</td>\n",
       "      <td>1</td>\n",
       "    </tr>\n",
       "    <tr>\n",
       "      <th>1</th>\n",
       "      <td>37</td>\n",
       "      <td>1</td>\n",
       "      <td>2</td>\n",
       "      <td>130</td>\n",
       "      <td>250</td>\n",
       "      <td>0</td>\n",
       "      <td>1</td>\n",
       "      <td>187</td>\n",
       "      <td>0</td>\n",
       "      <td>3.5</td>\n",
       "      <td>0</td>\n",
       "      <td>0</td>\n",
       "      <td>2</td>\n",
       "      <td>1</td>\n",
       "    </tr>\n",
       "    <tr>\n",
       "      <th>2</th>\n",
       "      <td>41</td>\n",
       "      <td>0</td>\n",
       "      <td>1</td>\n",
       "      <td>130</td>\n",
       "      <td>204</td>\n",
       "      <td>0</td>\n",
       "      <td>0</td>\n",
       "      <td>172</td>\n",
       "      <td>0</td>\n",
       "      <td>1.4</td>\n",
       "      <td>2</td>\n",
       "      <td>0</td>\n",
       "      <td>2</td>\n",
       "      <td>1</td>\n",
       "    </tr>\n",
       "    <tr>\n",
       "      <th>3</th>\n",
       "      <td>56</td>\n",
       "      <td>1</td>\n",
       "      <td>1</td>\n",
       "      <td>120</td>\n",
       "      <td>236</td>\n",
       "      <td>0</td>\n",
       "      <td>1</td>\n",
       "      <td>178</td>\n",
       "      <td>0</td>\n",
       "      <td>0.8</td>\n",
       "      <td>2</td>\n",
       "      <td>0</td>\n",
       "      <td>2</td>\n",
       "      <td>1</td>\n",
       "    </tr>\n",
       "    <tr>\n",
       "      <th>4</th>\n",
       "      <td>57</td>\n",
       "      <td>0</td>\n",
       "      <td>0</td>\n",
       "      <td>120</td>\n",
       "      <td>354</td>\n",
       "      <td>0</td>\n",
       "      <td>1</td>\n",
       "      <td>163</td>\n",
       "      <td>1</td>\n",
       "      <td>0.6</td>\n",
       "      <td>2</td>\n",
       "      <td>0</td>\n",
       "      <td>2</td>\n",
       "      <td>1</td>\n",
       "    </tr>\n",
       "  </tbody>\n",
       "</table>\n",
       "</div>"
      ],
      "text/plain": [
       "   AGE  GENDER  FEATURE_1  FEATURE_2  FEATURE_3  FEATURE_4  FEATURE_5  \\\n",
       "0   63       1          3        145        233          1          0   \n",
       "1   37       1          2        130        250          0          1   \n",
       "2   41       0          1        130        204          0          0   \n",
       "3   56       1          1        120        236          0          1   \n",
       "4   57       0          0        120        354          0          1   \n",
       "\n",
       "   FEATURE_6  FEATURE_7  FEATURE_8  FEATURE_9  FEATURE_10  FEATURE_11  TARGET  \n",
       "0        150          0        2.3          0           0           1       1  \n",
       "1        187          0        3.5          0           0           2       1  \n",
       "2        172          0        1.4          2           0           2       1  \n",
       "3        178          0        0.8          2           0           2       1  \n",
       "4        163          1        0.6          2           0           2       1  "
      ]
     },
     "execution_count": 27,
     "metadata": {},
     "output_type": "execute_result"
    }
   ],
   "source": [
    "clas.head()"
   ]
  },
  {
   "cell_type": "code",
   "execution_count": 28,
   "metadata": {
    "id": "aJ8tkQAsmCyU"
   },
   "outputs": [],
   "source": [
    "categorical_feature = ['GENDER','FEATURE_1','FEATURE_2','FEATURE_4','FEATURE_5','FEATURE_7','FEATURE_9','FEATURE_10','FEATURE_11']"
   ]
  },
  {
   "cell_type": "code",
   "execution_count": 29,
   "metadata": {
    "id": "4fOr40Smmjme"
   },
   "outputs": [],
   "source": [
    "y = clas['TARGET']\n",
    "X = clas.drop(['TARGET'],axis = 1)"
   ]
  },
  {
   "cell_type": "code",
   "execution_count": 30,
   "metadata": {
    "id": "7JzPlU6jydYc"
   },
   "outputs": [],
   "source": [
    "#Найдем оптимальные гиперпараметры с помощью optuna\n",
    "import optuna\n",
    "\n",
    "def objective(trial,X=X,y=y):\n",
    "   \n",
    "    cat_parameters = {\n",
    "        # 'bootstrap_type':'Poisson',\n",
    "        'eval_metric': 'F1',\n",
    "        'n_estimators': 5000,\n",
    "        'random_seed' : 100,\n",
    "        # 'task_type': 'GPU',\n",
    "        # 'devices':'0:1',\n",
    "        'max_depth': trial.suggest_int('max_depth',2,10,1),\n",
    "        'learning_rate': trial.suggest_loguniform('learning_rate', 0.000001,0.1),\n",
    "        'max_bin': trial.suggest_int('max_bin', 2, 10,1),\n",
    "        'min_data_in_leaf': trial.suggest_int('min_data_in_leaf', 2,10,1),\n",
    "        'subsample': trial.suggest_loguniform('subsample',0.1,0.99),\n",
    "        'l2_leaf_reg': trial.suggest_loguniform('l2_leaf_reg', 0.01,5),\n",
    "        'colsample_bylevel': trial.suggest_loguniform('colsample_bylevel', 0.01,0.99),\n",
    "    }\n",
    "\n",
    "    n_splits=10\n",
    "    kf = KFold(n_splits=n_splits, shuffle=True, random_state=101)\n",
    "    f1 = []\n",
    "    for trn_idx, val_idx in tqdm(kf.split(X,y)):\n",
    "        x_train_idx = X.iloc[trn_idx]\n",
    "        y_train_idx = y.iloc[trn_idx]\n",
    "        x_valid_idx = X.iloc[val_idx]\n",
    "        y_valid_idx = y.iloc[val_idx]\n",
    "\n",
    "        cat_model = CatBoostClassifier(**cat_parameters)\n",
    "        cat_model.fit(x_train_idx, y_train_idx, eval_set = ((x_valid_idx,y_valid_idx)),verbose = 0, cat_features = categorical_feature,early_stopping_rounds = 200,plot =False) \n",
    "        f1.append(f1_score(y_valid_idx, (cat_model.predict_proba(x_valid_idx)[:,1] > 0.5).astype(int)))\n",
    "    return np.mean(f1)"
   ]
  },
  {
   "cell_type": "code",
   "execution_count": 31,
   "metadata": {
    "id": "AMhn7ROzzxLu"
   },
   "outputs": [
    {
     "name": "stderr",
     "output_type": "stream",
     "text": [
      "\u001b[32m[I 2021-05-07 10:31:13,173]\u001b[0m A new study created in memory with name: no-name-5104badd-9db8-4e20-8a04-d21b91a4240c\u001b[0m\n",
      "10it [00:24,  2.49s/it]\n",
      "\u001b[32m[I 2021-05-07 10:31:38,044]\u001b[0m Trial 0 finished with value: 0.8949422364198094 and parameters: {'max_depth': 7, 'learning_rate': 0.0009591006403947615, 'max_bin': 7, 'min_data_in_leaf': 9, 'subsample': 0.10652277052284859, 'l2_leaf_reg': 2.1272978798627467, 'colsample_bylevel': 0.09559557977370217}. Best is trial 0 with value: 0.8949422364198094.\u001b[0m\n",
      "10it [01:06,  6.68s/it]\n",
      "\u001b[32m[I 2021-05-07 10:32:44,896]\u001b[0m Trial 1 finished with value: 0.8820870516236541 and parameters: {'max_depth': 7, 'learning_rate': 0.0003525591213797033, 'max_bin': 10, 'min_data_in_leaf': 6, 'subsample': 0.22297086076209469, 'l2_leaf_reg': 0.5010071773189324, 'colsample_bylevel': 0.461472704792578}. Best is trial 0 with value: 0.8949422364198094.\u001b[0m\n",
      "10it [00:17,  1.78s/it]\n",
      "\u001b[32m[I 2021-05-07 10:33:02,703]\u001b[0m Trial 2 finished with value: 0.8987818544041645 and parameters: {'max_depth': 3, 'learning_rate': 1.5258936077540724e-06, 'max_bin': 7, 'min_data_in_leaf': 5, 'subsample': 0.9639036495772872, 'l2_leaf_reg': 4.275172908553342, 'colsample_bylevel': 0.3229493314340853}. Best is trial 2 with value: 0.8987818544041645.\u001b[0m\n",
      "10it [01:34,  9.48s/it]\n",
      "\u001b[32m[I 2021-05-07 10:34:37,507]\u001b[0m Trial 3 finished with value: 0.8878576982872648 and parameters: {'max_depth': 10, 'learning_rate': 0.005016104252426717, 'max_bin': 3, 'min_data_in_leaf': 4, 'subsample': 0.27054624609737904, 'l2_leaf_reg': 0.1256501962082476, 'colsample_bylevel': 0.9122511853917098}. Best is trial 2 with value: 0.8987818544041645.\u001b[0m\n",
      "10it [00:04,  2.25it/s]\n",
      "\u001b[32m[I 2021-05-07 10:34:41,963]\u001b[0m Trial 4 finished with value: 0.8927195824848875 and parameters: {'max_depth': 4, 'learning_rate': 0.05916103393822788, 'max_bin': 4, 'min_data_in_leaf': 5, 'subsample': 0.2547285914851353, 'l2_leaf_reg': 2.5417282512270485, 'colsample_bylevel': 0.01805166151444135}. Best is trial 2 with value: 0.8987818544041645.\u001b[0m\n",
      "10it [00:05,  1.95it/s]\n",
      "\u001b[32m[I 2021-05-07 10:34:47,085]\u001b[0m Trial 5 finished with value: 0.8595779592968456 and parameters: {'max_depth': 3, 'learning_rate': 0.011589385761251401, 'max_bin': 2, 'min_data_in_leaf': 7, 'subsample': 0.334071800520088, 'l2_leaf_reg': 0.12677623184259001, 'colsample_bylevel': 0.019428117965915884}. Best is trial 2 with value: 0.8987818544041645.\u001b[0m\n",
      "10it [00:04,  2.19it/s]\n",
      "\u001b[32m[I 2021-05-07 10:34:51,674]\u001b[0m Trial 6 finished with value: 0.8698390625023198 and parameters: {'max_depth': 8, 'learning_rate': 3.661134201848213e-05, 'max_bin': 5, 'min_data_in_leaf': 10, 'subsample': 0.4484458247957708, 'l2_leaf_reg': 0.06685892798068259, 'colsample_bylevel': 0.03145985433045582}. Best is trial 2 with value: 0.8987818544041645.\u001b[0m\n",
      "10it [00:28,  2.87s/it]\n",
      "\u001b[32m[I 2021-05-07 10:35:20,401]\u001b[0m Trial 7 finished with value: 0.8933484897455484 and parameters: {'max_depth': 5, 'learning_rate': 7.70969911071073e-05, 'max_bin': 8, 'min_data_in_leaf': 6, 'subsample': 0.36038310797245227, 'l2_leaf_reg': 0.0782841250003636, 'colsample_bylevel': 0.20239403419066238}. Best is trial 2 with value: 0.8987818544041645.\u001b[0m\n",
      "10it [00:06,  1.56it/s]\n",
      "\u001b[32m[I 2021-05-07 10:35:26,817]\u001b[0m Trial 8 finished with value: 0.878595421536598 and parameters: {'max_depth': 5, 'learning_rate': 0.0025286699447279693, 'max_bin': 8, 'min_data_in_leaf': 6, 'subsample': 0.11629611439281995, 'l2_leaf_reg': 0.01579036060254205, 'colsample_bylevel': 0.0465242126648838}. Best is trial 2 with value: 0.8987818544041645.\u001b[0m\n",
      "10it [00:51,  5.14s/it]\n",
      "\u001b[32m[I 2021-05-07 10:36:18,173]\u001b[0m Trial 9 finished with value: 0.8907622435718411 and parameters: {'max_depth': 6, 'learning_rate': 0.008585023769523721, 'max_bin': 9, 'min_data_in_leaf': 2, 'subsample': 0.24299650000896333, 'l2_leaf_reg': 2.5326498758056597, 'colsample_bylevel': 0.3866838218330011}. Best is trial 2 with value: 0.8987818544041645.\u001b[0m\n"
     ]
    },
    {
     "name": "stdout",
     "output_type": "stream",
     "text": [
      "Number of finished trials: 10\n",
      "Best trial: {'max_depth': 3, 'learning_rate': 1.5258936077540724e-06, 'max_bin': 7, 'min_data_in_leaf': 5, 'subsample': 0.9639036495772872, 'l2_leaf_reg': 4.275172908553342, 'colsample_bylevel': 0.3229493314340853}\n"
     ]
    }
   ],
   "source": [
    "# 10 циклов для наглядности\n",
    "study = optuna.create_study(direction='maximize')\n",
    "study.optimize(objective, n_trials= 10)\n",
    "print('Number of finished trials:', len(study.trials))\n",
    "print('Best trial:', study.best_trial.params)"
   ]
  },
  {
   "cell_type": "code",
   "execution_count": 32,
   "metadata": {
    "colab": {
     "base_uri": "https://localhost:8080/"
    },
    "id": "UJcVFZjd10Zz",
    "outputId": "c03a8d5f-c542-4306-f81d-b742637aae1b"
   },
   "outputs": [
    {
     "data": {
      "text/plain": [
       "{'max_depth': 3,\n",
       " 'learning_rate': 1.5258936077540724e-06,\n",
       " 'max_bin': 7,\n",
       " 'min_data_in_leaf': 5,\n",
       " 'subsample': 0.9639036495772872,\n",
       " 'l2_leaf_reg': 4.275172908553342,\n",
       " 'colsample_bylevel': 0.3229493314340853}"
      ]
     },
     "execution_count": 32,
     "metadata": {},
     "output_type": "execute_result"
    }
   ],
   "source": [
    "#Гиперпараметры\n",
    "study.best_trial.params"
   ]
  },
  {
   "cell_type": "code",
   "execution_count": 33,
   "metadata": {
    "id": "Fb_cbPIelnEh"
   },
   "outputs": [],
   "source": [
    "cat_parameters = study.best_trial.params\n",
    "cat_parameters['eval_metric'] = 'F1'\n",
    "cat_parameters['random_seed'] = 100\n",
    "cat_parameters['n_estimators'] = 5000"
   ]
  },
  {
   "cell_type": "code",
   "execution_count": 34,
   "metadata": {
    "colab": {
     "base_uri": "https://localhost:8080/"
    },
    "id": "hTXRp_eWlcN3",
    "outputId": "3f8ef616-42aa-466b-8d46-d5d7a0d60a3d"
   },
   "outputs": [
    {
     "name": "stderr",
     "output_type": "stream",
     "text": [
      "10it [00:16,  1.63s/it]"
     ]
    },
    {
     "name": "stdout",
     "output_type": "stream",
     "text": [
      " F1_score: 0.8987818544041645\n"
     ]
    },
    {
     "name": "stderr",
     "output_type": "stream",
     "text": [
      "\n"
     ]
    }
   ],
   "source": [
    "# Catboost и Метрика F1\n",
    "n_splits=10\n",
    "kf = KFold(n_splits=n_splits, shuffle=True, random_state=101)\n",
    "f1 = [] \n",
    "for trn_idx, val_idx in tqdm(kf.split(X,y)):\n",
    "    x_train_idx = X.iloc[trn_idx]\n",
    "    y_train_idx = y.iloc[trn_idx]\n",
    "    x_valid_idx = X.iloc[val_idx]\n",
    "    y_valid_idx = y.iloc[val_idx]\n",
    "\n",
    "    cat_model = CatBoostClassifier(**cat_parameters)\n",
    "    cat_model.fit(x_train_idx, y_train_idx, eval_set = ((x_valid_idx,y_valid_idx)),verbose = 0, cat_features = categorical_feature,early_stopping_rounds = 200,plot =False) \n",
    "    f1.append(f1_score(y_valid_idx, (cat_model.predict_proba(x_valid_idx)[:,1] > 0.5).astype(int)))\n",
    "print(f' F1_score: {np.mean(f1)}')"
   ]
  },
  {
   "cell_type": "code",
   "execution_count": 35,
   "metadata": {
    "colab": {
     "base_uri": "https://localhost:8080/",
     "height": 388
    },
    "id": "Nsp3bUxf7Ujf",
    "outputId": "30e98dfc-0b51-4d29-a656-d67902b9a840"
   },
   "outputs": [
    {
     "data": {
      "image/png": "[encoded data removed]",
      "text/plain": [
       "<Figure size 720x432 with 1 Axes>"
      ]
     },
     "metadata": {
      "needs_background": "light"
     },
     "output_type": "display_data"
    }
   ],
   "source": [
    "#Feature Importance\n",
    "def plot_feature_importance(importance,names):\n",
    "    feature_importance = np.array(importance)\n",
    "    feature_names = np.array(names)\n",
    "    data={'feature_names':feature_names,'feature_importance':feature_importance}\n",
    "    fi_df = pd.DataFrame(data)\n",
    "    fi_df.sort_values(by=['feature_importance'], ascending=False,inplace=True)\n",
    "    plt.figure(figsize=(10,6))\n",
    "    sns.barplot(x=fi_df['feature_importance'], y=fi_df['feature_names'])\n",
    "    plt.xlabel('Feature Importance')\n",
    "plot_feature_importance(cat_model.get_feature_importance(),X.columns)"
   ]
  }
 ],
 "metadata": {
  "colab": {
   "collapsed_sections": [],
   "name": "magnit_test.ipynb",
   "provenance": []
  },
  "kernelspec": {
   "display_name": "Python 3",
   "language": "python",
   "name": "python3"
  },
  "language_info": {
   "codemirror_mode": {
    "name": "ipython",
    "version": 3
   },
   "file_extension": ".py",
   "mimetype": "text/x-python",
   "name": "python",
   "nbconvert_exporter": "python",
   "pygments_lexer": "ipython3",
   "version": "3.8.3"
  }
 },
 "nbformat": 4,
 "nbformat_minor": 1
}
